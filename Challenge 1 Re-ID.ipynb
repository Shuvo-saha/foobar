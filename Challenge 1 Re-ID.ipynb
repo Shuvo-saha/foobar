{
 "metadata": {
  "language_info": {
   "codemirror_mode": {
    "name": "ipython",
    "version": 3
   },
   "file_extension": ".py",
   "mimetype": "text/x-python",
   "name": "python",
   "nbconvert_exporter": "python",
   "pygments_lexer": "ipython3",
   "version": "3.8.3-final"
  },
  "orig_nbformat": 2,
  "kernelspec": {
   "name": "python_defaultSpec_1599578346835",
   "display_name": "Python 3.7.7 64-bit ('miniconda3': conda)"
  }
 },
 "nbformat": 4,
 "nbformat_minor": 2,
 "cells": [
  {
   "cell_type": "code",
   "execution_count": 1,
   "metadata": {},
   "outputs": [],
   "source": [
    "x = '21521051481054987621938-1238128-9512349821673421893'"
   ]
  },
  {
   "cell_type": "code",
   "execution_count": 6,
   "metadata": {},
   "outputs": [],
   "source": [
    "def prime_finder(x, n):\n",
    "    return x[n:n+5]"
   ]
  },
  {
   "cell_type": "code",
   "execution_count": 8,
   "metadata": {},
   "outputs": [
    {
     "output_type": "execute_result",
     "data": {
      "text/plain": "'21051'"
     },
     "metadata": {},
     "execution_count": 8
    }
   ],
   "source": [
    "prime_finder(x,3)"
   ]
  },
  {
   "cell_type": "code",
   "execution_count": 12,
   "metadata": {},
   "outputs": [],
   "source": [
    "n = 6\n",
    "prime = [True for i in range(n + 1)] "
   ]
  },
  {
   "cell_type": "code",
   "execution_count": 13,
   "metadata": {},
   "outputs": [
    {
     "output_type": "execute_result",
     "data": {
      "text/plain": "[True, True, True, True, True, True, True]"
     },
     "metadata": {},
     "execution_count": 13
    }
   ],
   "source": [
    "prime"
   ]
  },
  {
   "cell_type": "code",
   "execution_count": null,
   "metadata": {},
   "outputs": [],
   "source": [
    "for i in range(p ** 2, n + 1, p): \n",
    "    prime[i] = False"
   ]
  },
  {
   "cell_type": "code",
   "execution_count": 74,
   "metadata": {},
   "outputs": [],
   "source": [
    "def SieveOfEratosthenes(n): \n",
    "      \n",
    "    # Create a boolean array \"prime[0..n]\" and initialize \n",
    "    # all entries it as true. A value in prime[i] will \n",
    "    # finally be false if i is Not a prime, else true. \n",
    "    prime = [True for i in range(n + 1)] \n",
    "    p = 2\n",
    "    # We can skip over the squares\n",
    "    while (p * p <= n): \n",
    "          \n",
    "        # If prime[p] is not changed, then it is a prime \n",
    "        if (prime[p] == True): \n",
    "              \n",
    "            # Update all multiples of p \n",
    "            for i in range(p ** 2, n + 1, p): \n",
    "                prime[i] = False\n",
    "        p += 1\n",
    "    \n",
    "    # Some non prime numbers\n",
    "    prime[0]= False\n",
    "    prime[1]= False\n",
    "    \n",
    "    # Return a string of all prime numbers \n",
    "    prime_string = \"\"\n",
    "    \n",
    "    # Adds to the string of prime numbers from 2 to n+1\n",
    "    for p in range(n + 1): \n",
    "        if prime[p]: \n",
    "            prime_string += str(p)\n",
    "    return prime_string\n",
    "\n",
    "\n",
    "def solution(n):\n",
    "    # Creates an id string of length 10,000 + 5 (since n will be 10,000 and 5 extra digits after that index) or greater\n",
    "    x = SieveOfEratosthenes(20231)\n",
    "    return x[n:n+5]"
   ]
  },
  {
   "cell_type": "code",
   "execution_count": 75,
   "metadata": {
    "tags": []
   },
   "outputs": [
    {
     "output_type": "execute_result",
     "data": {
      "text/plain": "'02192'"
     },
     "metadata": {},
     "execution_count": 75
    }
   ],
   "source": [
    "solution(10000)"
   ]
  },
  {
   "cell_type": "code",
   "execution_count": 64,
   "metadata": {
    "tags": []
   },
   "outputs": [
    {
     "output_type": "stream",
     "name": "stdout",
     "text": "20231\n"
    }
   ],
   "source": [
    "for x in range(20000,25000):\n",
    "    if SieveOfEratosthenes(x) >= 10005:\n",
    "        print(x)\n",
    "        break"
   ]
  },
  {
   "cell_type": "code",
   "execution_count": 61,
   "metadata": {},
   "outputs": [
    {
     "output_type": "execute_result",
     "data": {
      "text/plain": "24999"
     },
     "metadata": {},
     "execution_count": 61
    }
   ],
   "source": [
    "x"
   ]
  },
  {
   "cell_type": "code",
   "execution_count": 62,
   "metadata": {},
   "outputs": [
    {
     "output_type": "execute_result",
     "data": {
      "text/plain": "12384"
     },
     "metadata": {},
     "execution_count": 62
    }
   ],
   "source": [
    "SieveOfEratosthenes(25000)"
   ]
  },
  {
   "cell_type": "code",
   "execution_count": 2,
   "metadata": {},
   "outputs": [
    {
     "output_type": "error",
     "ename": "SyntaxError",
     "evalue": "unexpected EOF while parsing (<ipython-input-2-8c9813318c99>, line 26)",
     "traceback": [
      "\u001b[1;36m  File \u001b[1;32m\"<ipython-input-2-8c9813318c99>\"\u001b[1;36m, line \u001b[1;32m26\u001b[0m\n\u001b[1;33m    \u001b[0m\n\u001b[1;37m    ^\u001b[0m\n\u001b[1;31mSyntaxError\u001b[0m\u001b[1;31m:\u001b[0m unexpected EOF while parsing\n"
     ]
    }
   ],
   "source": [
    "def locate(top,num,under):\n",
    "  print(under)\n",
    "  under=under/2\n",
    "  print(under)\n",
    "  right=top-1\n",
    "  left=top-1-under\n",
    "  if right==num or left==num:\n",
    "    return top\n",
    "  else:\n",
    "    if num<=left:\n",
    "      return locate(left, num, under)\n",
    "    else:\n",
    "      return locate(right,num,under)\n",
    "def answer(h,q):\n",
    "  head=(2**h)-1\n",
    "  result=[]\n",
    "  for i in range(len(q)):\n",
    "    if q[i]<head and q[i]>=1:\n",
    "      x=locate(head,q[i],head-1)\n",
    "      result.append(x)\n",
    "    else:\n",
    "      result.append(-1)\n",
    "  return result\n",
    "print(answer(3,[1,4,7]) \n",
    "  \n",
    "  "
   ]
  },
  {
   "cell_type": "code",
   "execution_count": null,
   "metadata": {},
   "outputs": [],
   "source": []
  }
 ]
}
